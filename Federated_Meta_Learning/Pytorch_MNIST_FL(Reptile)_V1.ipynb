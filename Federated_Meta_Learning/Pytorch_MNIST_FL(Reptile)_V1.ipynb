{
  "nbformat": 4,
  "nbformat_minor": 0,
  "metadata": {
    "colab": {
      "name": "Pytorch_MNIST_FL(Reptile)_V1.ipynb",
      "provenance": [],
      "collapsed_sections": [],
      "authorship_tag": "ABX9TyMq0qF2e3X95zaHfaHjFP4Q",
      "include_colab_link": true
    },
    "kernelspec": {
      "name": "python3",
      "display_name": "Python 3"
    }
  },
  "cells": [
    {
      "cell_type": "markdown",
      "metadata": {
        "id": "view-in-github",
        "colab_type": "text"
      },
      "source": [
        "<a href=\"https://colab.research.google.com/github/Herdol/Federated_Learning/blob/main/Federated_Meta_Learning/Pytorch_MNIST_FL(Reptile)_V1.ipynb\" target=\"_parent\"><img src=\"https://colab.research.google.com/assets/colab-badge.svg\" alt=\"Open In Colab\"/></a>"
      ]
    },
    {
      "cell_type": "markdown",
      "metadata": {
        "id": "Ox2htakwI6H9"
      },
      "source": [
        "# Federated Multi-task Learning simulator \n",
        "In this simulation I compared the performance of learning from scratch, reptile algorithm and federated meta (reptile) learning. \n",
        "## Simulation setup\n",
        "Simulation hyperparameters can be changed in the beginning of code. Neural network model is same for all three scenarios. Simulation setups are,\n",
        "### Learning from scratch\n",
        "Single learner tries to learn a task in K-shot with randomly initiated model weights.\n",
        "### Reptile algorithm\n",
        "Single learner has a model which is trained for two other tasks. Then, it tries to converge third task in  K-shot.\n",
        "### Federated meta learning\n",
        "A cluster of learners train their models with two tasks with Reptile algorithm. After each learning cycle, they aggregate their models in a server. After first phase of learning completed, they begin to converge for the third task collaboratively. In K-shot they aggregate their models after each step of 'k' .\n",
        "\n",
        "## Change log\n",
        "- Multi headed CNN network converted into 1 headed.\n",
        "- Update failure between steps has been fixed.\n",
        "\n",
        "## Library imports and data preparation\n",
        "Necessary libraries are imported here. Data allocation for the workers are also arranged here. In order to change the number of workers, simply change this line at ths second code block: \n",
        "```Python\n",
        "  num_worker= X\n",
        "```\n"
      ]
    },
    {
      "cell_type": "code",
      "metadata": {
        "id": "zZduYsz0weBW",
        "colab": {
          "base_uri": "https://localhost:8080/"
        },
        "outputId": "901307d2-588d-4381-9009-f7c101a91bdd"
      },
      "source": [
        "!pip install wandb --upgrade"
      ],
      "execution_count": null,
      "outputs": [
        {
          "output_type": "stream",
          "name": "stdout",
          "text": [
            "Requirement already satisfied: wandb in /usr/local/lib/python3.7/dist-packages (0.12.9)\n",
            "Requirement already satisfied: docker-pycreds>=0.4.0 in /usr/local/lib/python3.7/dist-packages (from wandb) (0.4.0)\n",
            "Requirement already satisfied: Click!=8.0.0,>=7.0 in /usr/local/lib/python3.7/dist-packages (from wandb) (7.1.2)\n",
            "Requirement already satisfied: psutil>=5.0.0 in /usr/local/lib/python3.7/dist-packages (from wandb) (5.4.8)\n",
            "Requirement already satisfied: protobuf>=3.12.0 in /usr/local/lib/python3.7/dist-packages (from wandb) (3.17.3)\n",
            "Requirement already satisfied: python-dateutil>=2.6.1 in /usr/local/lib/python3.7/dist-packages (from wandb) (2.8.2)\n",
            "Requirement already satisfied: PyYAML in /usr/local/lib/python3.7/dist-packages (from wandb) (3.13)\n",
            "Requirement already satisfied: sentry-sdk>=1.0.0 in /usr/local/lib/python3.7/dist-packages (from wandb) (1.5.2)\n",
            "Requirement already satisfied: yaspin>=1.0.0 in /usr/local/lib/python3.7/dist-packages (from wandb) (2.1.0)\n",
            "Requirement already satisfied: pathtools in /usr/local/lib/python3.7/dist-packages (from wandb) (0.1.2)\n",
            "Requirement already satisfied: configparser>=3.8.1 in /usr/local/lib/python3.7/dist-packages (from wandb) (5.2.0)\n",
            "Requirement already satisfied: six>=1.13.0 in /usr/local/lib/python3.7/dist-packages (from wandb) (1.15.0)\n",
            "Requirement already satisfied: subprocess32>=3.5.3 in /usr/local/lib/python3.7/dist-packages (from wandb) (3.5.4)\n",
            "Requirement already satisfied: promise<3,>=2.0 in /usr/local/lib/python3.7/dist-packages (from wandb) (2.3)\n",
            "Requirement already satisfied: requests<3,>=2.0.0 in /usr/local/lib/python3.7/dist-packages (from wandb) (2.23.0)\n",
            "Requirement already satisfied: GitPython>=1.0.0 in /usr/local/lib/python3.7/dist-packages (from wandb) (3.1.26)\n",
            "Requirement already satisfied: shortuuid>=0.5.0 in /usr/local/lib/python3.7/dist-packages (from wandb) (1.0.8)\n",
            "Requirement already satisfied: typing-extensions>=3.7.4.3 in /usr/local/lib/python3.7/dist-packages (from GitPython>=1.0.0->wandb) (3.10.0.2)\n",
            "Requirement already satisfied: gitdb<5,>=4.0.1 in /usr/local/lib/python3.7/dist-packages (from GitPython>=1.0.0->wandb) (4.0.9)\n",
            "Requirement already satisfied: smmap<6,>=3.0.1 in /usr/local/lib/python3.7/dist-packages (from gitdb<5,>=4.0.1->GitPython>=1.0.0->wandb) (5.0.0)\n",
            "Requirement already satisfied: certifi>=2017.4.17 in /usr/local/lib/python3.7/dist-packages (from requests<3,>=2.0.0->wandb) (2021.10.8)\n",
            "Requirement already satisfied: urllib3!=1.25.0,!=1.25.1,<1.26,>=1.21.1 in /usr/local/lib/python3.7/dist-packages (from requests<3,>=2.0.0->wandb) (1.24.3)\n",
            "Requirement already satisfied: chardet<4,>=3.0.2 in /usr/local/lib/python3.7/dist-packages (from requests<3,>=2.0.0->wandb) (3.0.4)\n",
            "Requirement already satisfied: idna<3,>=2.5 in /usr/local/lib/python3.7/dist-packages (from requests<3,>=2.0.0->wandb) (2.10)\n",
            "Requirement already satisfied: termcolor<2.0.0,>=1.1.0 in /usr/local/lib/python3.7/dist-packages (from yaspin>=1.0.0->wandb) (1.1.0)\n"
          ]
        }
      ]
    },
    {
      "cell_type": "code",
      "metadata": {
        "id": "R9N7ShmC_s4T"
      },
      "source": [
        "import torch\n",
        "import torchvision\n",
        "import torchvision.transforms as transforms\n",
        "import torch.nn as nn\n",
        "import torch.nn.functional as F\n",
        "import numpy as np\n",
        "from collections import OrderedDict, defaultdict\n",
        "from sys import getsizeof\n",
        "import math\n",
        "import itertools\n",
        "from scipy.spatial import distance\n",
        "import time\n",
        "import matplotlib.pyplot as plt\n",
        "import wandb\n",
        "from torch import nn, autograd as ag\n",
        "import torch.optim as optim\n",
        "from copy import deepcopy\n",
        "import pickle"
      ],
      "execution_count": null,
      "outputs": []
    },
    {
      "cell_type": "code",
      "metadata": {
        "id": "dlYguLIAwVi_",
        "colab": {
          "base_uri": "https://localhost:8080/",
          "height": 73
        },
        "outputId": "d2d384e3-559d-43a5-9edc-9319deb2dce7"
      },
      "source": [
        "wandb.login()\n",
        "wandb.init(project=\"Scratch_Reptile_Federated_v1\", name=\"accuracy metrics\")"
      ],
      "execution_count": null,
      "outputs": [
        {
          "output_type": "stream",
          "name": "stderr",
          "text": [
            "\u001b[34m\u001b[1mwandb\u001b[0m: Currently logged in as: \u001b[33mherdol\u001b[0m (use `wandb login --relogin` to force relogin)\n"
          ]
        },
        {
          "output_type": "display_data",
          "data": {
            "text/html": [
              "\n",
              "                    Syncing run <strong><a href=\"https://wandb.ai/herdol/Scratch_Reptile_Federated_v1/runs/cbrkus1b\" target=\"_blank\">accuracy metrics</a></strong> to <a href=\"https://wandb.ai/herdol/Scratch_Reptile_Federated_v1\" target=\"_blank\">Weights & Biases</a> (<a href=\"https://docs.wandb.com/integrations/jupyter.html\" target=\"_blank\">docs</a>).<br/>\n",
              "\n",
              "                "
            ],
            "text/plain": [
              "<IPython.core.display.HTML object>"
            ]
          },
          "metadata": {}
        },
        {
          "output_type": "execute_result",
          "data": {
            "text/plain": [
              "<wandb.sdk.wandb_run.Run at 0x7fa352158c50>"
            ],
            "text/html": [
              "<button onClick=\"this.nextSibling.style.display='block';this.style.display='none';\">Display W&B run</button><iframe src=\"https://wandb.ai/herdol/Scratch_Reptile_Federated_v1/runs/cbrkus1b?jupyter=true\" style=\"border:none;width:100%;height:420px;display:none;\"></iframe>"
            ]
          },
          "metadata": {},
          "execution_count": 3
        }
      ]
    },
    {
      "cell_type": "code",
      "metadata": {
        "id": "8UmuP--f_-xV"
      },
      "source": [
        "transform = transforms.Compose(\n",
        "    [transforms.ToTensor(),\n",
        "     transforms.Normalize((0.5), (0.5))])\n",
        "\n",
        "# The codes below fix the HTTP 503: Forbidden error while downloading MNIST\n",
        "from six.moves import urllib\n",
        "opener = urllib.request.build_opener()\n",
        "opener.addheaders = [('User-agent', 'Mozilla/5.0')]\n",
        "urllib.request.install_opener(opener)\n",
        "#######################################################\n",
        "trainset = torchvision.datasets.MNIST(root='./data', train=True,\n",
        "                                        download=True, transform=transform)\n",
        "testset = torchvision.datasets.MNIST(root='./data', train=False,\n",
        "                                       download=True, transform=transform)"
      ],
      "execution_count": null,
      "outputs": []
    },
    {
      "cell_type": "code",
      "source": [
        "#@title Hyperparameters of simulation\n",
        "num_worker=20 #@param \n",
        "Meta_step_number = 20 #@param {type:\"slider\", min:2, max:100, step:1}\n",
        "Batch_size = 40 #@param {type:\"slider\", min:5, max:300, step:1}\n",
        "Epoch=20 #@param \n",
        "Beta=0.1 #@param Meta step size\n",
        "K_shot=60 #@param\n",
        " \n",
        "innerstepsize = 0.02 # stepsize in inner SGD\n",
        "innerepochs = 1 # number of epochs of each inner SGD\n",
        "outerstepsize0 = 0.1 # stepsize of outer optimization, i.e., meta-optimization\n",
        "niterations = 400 # number of outer updates; each iteration we sample one task and update on it"
      ],
      "metadata": {
        "id": "Uuc3OELF-ek5"
      },
      "execution_count": null,
      "outputs": []
    },
    {
      "cell_type": "code",
      "source": [
        "wandb.config = {\n",
        "  \"learning_rate\": innerstepsize,\n",
        "  \"inner iteration\": Meta_step_number,\n",
        "  \"outer iterations\": niterations,\n",
        "  \"batch_size\": Batch_size,\n",
        "  \"number of suers\": num_worker,\n",
        "  \"K-Shot\": K_shot\n",
        "\n",
        "}"
      ],
      "metadata": {
        "id": "zZyw44PIFMcr"
      },
      "execution_count": null,
      "outputs": []
    },
    {
      "cell_type": "code",
      "metadata": {
        "id": "L-9g1U8s_-uJ"
      },
      "source": [
        "n = 60000  # how many total elements you have\n",
        "n_test = int( n * .05 )  # number of test/val elements\n",
        "n_train = 5000\n",
        "idx_train = list(range(50000))\n",
        "idx_test = list(range(10000))\n",
        "train_idx=[]\n",
        "test_idx=[]\n",
        "train_set=[]\n",
        "wtd=int(len(idx_train)/num_worker) #Worker Train data count for an individual node\n",
        "wtec=int(len(idx_test)/num_worker) #Worker Test data count for an individual node\n",
        "for widx in range(num_worker):\n",
        "  train_idx=idx_train[widx*wtd:(widx+1)*wtd]\n",
        "  test_idx=idx_test[widx*wtec:(widx+1)*wtec]\n",
        "  train_set.append(torch.utils.data.Subset(trainset, train_idx))\n",
        "  #testset.append(torch.utils.data.Subset(testset, test_idx))"
      ],
      "execution_count": null,
      "outputs": []
    },
    {
      "cell_type": "code",
      "source": [
        "model_scratch = nn.Sequential(\n",
        "    nn.Linear(784, 256),\n",
        "    nn.ReLU(),\n",
        "    nn.Linear(256, 100),\n",
        "    nn.ReLU(),\n",
        "    nn.Linear(100, 20),\n",
        "    nn.ReLU(),\n",
        "    nn.Linear(20, 2)\n",
        ")\n",
        "model_reptile = nn.Sequential(\n",
        "    nn.Linear(784, 256),\n",
        "    nn.ReLU(),\n",
        "    nn.Linear(256, 100),\n",
        "    nn.ReLU(),\n",
        "    nn.Linear(100, 20),\n",
        "    nn.ReLU(),\n",
        "    nn.Linear(20, 2)\n",
        ")\n",
        "model_federated_meta = nn.Sequential(\n",
        "    nn.Linear(784, 256),\n",
        "    nn.ReLU(),\n",
        "    nn.Linear(256, 100),\n",
        "    nn.ReLU(),\n",
        "    nn.Linear(100, 20),\n",
        "    nn.ReLU(),\n",
        "    nn.Linear(20, 2)\n",
        ")"
      ],
      "metadata": {
        "id": "HwddZuuIwzQu"
      },
      "execution_count": null,
      "outputs": []
    },
    {
      "cell_type": "code",
      "metadata": {
        "id": "apphUqrZ_-rj",
        "colab": {
          "base_uri": "https://localhost:8080/",
          "height": 53
        },
        "outputId": "6bc20b3b-16e3-4b36-a0f5-1cd6709aa7d7"
      },
      "source": [
        "\n",
        "\n",
        "'''#criterion = nn.CrossEntropyLoss()\n",
        "criterion = nn.MSELoss()\n",
        "Learning_rate=0.01\n",
        "optimizer_scratch = optim.SGD(net_scratch.parameters(), lr=Learning_rate)\n",
        "optimizer_meta = optim.SGD(net_meta.parameters(), lr=Learning_rate)\n",
        "optimizer_Fed_meta = optim.SGD(net_Fed_meta.parameters(), lr=Learning_rate)'''"
      ],
      "execution_count": null,
      "outputs": [
        {
          "output_type": "execute_result",
          "data": {
            "application/vnd.google.colaboratory.intrinsic+json": {
              "type": "string"
            },
            "text/plain": [
              "'#criterion = nn.CrossEntropyLoss()\\ncriterion = nn.MSELoss()\\nLearning_rate=0.01\\noptimizer_scratch = optim.SGD(net_scratch.parameters(), lr=Learning_rate)\\noptimizer_meta = optim.SGD(net_meta.parameters(), lr=Learning_rate)\\noptimizer_Fed_meta = optim.SGD(net_Fed_meta.parameters(), lr=Learning_rate)'"
            ]
          },
          "metadata": {},
          "execution_count": 9
        }
      ]
    },
    {
      "cell_type": "code",
      "source": [
        "def totorch(x):\n",
        "    return ag.Variable(torch.Tensor(x))\n",
        "\n",
        "def train_on_batch(x, y,model):\n",
        "    x = totorch(x)\n",
        "    y = totorch(y)\n",
        "    model.zero_grad()\n",
        "    ypred = model(x)\n",
        "    loss = (ypred - y).pow(2).mean()\n",
        "    loss.backward()\n",
        "    for param in model.parameters():\n",
        "        param.data -= innerstepsize * param.grad.data\n",
        "\n",
        "def predict(x,model):\n",
        "    x = totorch(x)\n",
        "    return model(x).data.numpy()"
      ],
      "metadata": {
        "id": "nLeX81sW3mih"
      },
      "execution_count": null,
      "outputs": []
    },
    {
      "cell_type": "markdown",
      "metadata": {
        "id": "t0HErMCh2Q84"
      },
      "source": [
        "## Utility Functions\n",
        "Necessary functions are defined under this section."
      ]
    },
    {
      "cell_type": "code",
      "metadata": {
        "id": "MbpOt7SGXGp_"
      },
      "source": [
        "def FedAvg(Weights,num_worker):\n",
        "  #Peer-to-Peer aggregation\n",
        "  W1=Weights[0]\n",
        "  FedAvg_result={}\n",
        "  #print(getsizeof(FedAvg))\n",
        "  for wei in W1:\n",
        "    #print(wei)\n",
        "    FedAvg_result[wei]=W1[wei]*0\n",
        "    #print(FedAvg) #Clear the variable.\n",
        "  for widx in range(num_worker):\n",
        "    for wei in W1:\n",
        "      temp_weights=Weights[widx]\n",
        "      FedAvg_result[wei]+= temp_weights[wei]/num_worker\n",
        "\n",
        "  return FedAvg_result"
      ],
      "execution_count": null,
      "outputs": []
    },
    {
      "cell_type": "code",
      "source": [
        "def totorch(x):\n",
        "    return ag.Variable(torch.Tensor(x))"
      ],
      "metadata": {
        "id": "-yEhxSM8xBCC"
      },
      "execution_count": null,
      "outputs": []
    },
    {
      "cell_type": "markdown",
      "metadata": {
        "id": "aZS1VCZUP2zp"
      },
      "source": [
        "## MAML label transformation\n",
        "Labels in MNIST dataset will be represented with 4 digit label which are:\n",
        "$$ [Odd,even,small,large] $$\n"
      ]
    },
    {
      "cell_type": "code",
      "metadata": {
        "id": "R5N6OppDxJRW"
      },
      "source": [
        "def Meta_labels(labels,Task):\n",
        "  \"\"\"\n",
        "  This function transforms MNIST labels into spesific task labels. Tasks classify the numbers if they are\n",
        "  1) Odd or Even?\n",
        "  2) Smaller or Larger than 5?\n",
        "  3) Product of 3?\n",
        "  \"\"\"\n",
        "  temp=[]\n",
        "  if Task==1: # Odd or even\n",
        "    Transformer_matrix=[[0,1],[1,0],[0,1],[1,0],[0,1],[1,0],[0,1],[1,0],[0,1],[1,0]]\n",
        "  elif Task==2: # Smaller or larger than 5\n",
        "    Transformer_matrix=[[1,0],[1,0],[1,0],[1,0],[1,0],[0,1],[0,1],[0,1],[0,1],[0,1]]\n",
        "  elif Task==3: # Product of 3\n",
        "    Transformer_matrix=[[1,0],[0,1],[0,1],[1,0],[0,1],[0,1],[1,0],[0,1],[0,1],[1,0]]\n",
        "  else:\n",
        "    print('Task is out borders')\n",
        "\n",
        "  for i in labels:\n",
        "    temp.append(Transformer_matrix[i])\n",
        "  maml_labels=torch.tensor(temp)\n",
        "  return maml_labels"
      ],
      "execution_count": null,
      "outputs": []
    },
    {
      "cell_type": "markdown",
      "source": [
        "## Performance parameter calculations\n",
        "The key performance values are listed below. \n",
        "- Precision = TruePositives / (TruePositives + FalsePositives)\n",
        "- Recall = TruePositives / (TruePositives + FalseNegatives)\n",
        "- F-Measure = (2 * Precision * Recall) / (Precision + Recall)"
      ],
      "metadata": {
        "id": "SuAAOmTBfb5J"
      }
    },
    {
      "cell_type": "code",
      "source": [
        "def extractor(label,out):\n",
        "  TP, FP, TN, FN = 0,0,0,0\n",
        "  \n",
        "  #label=torch.tensor(label,dtype=torch.float32)\n",
        "  #out=torch.tensor(out,dtype=torch.float32)\n",
        "  for idx in range(len(label)):\n",
        "    if out[idx][0]>=out[idx][1] and label[idx][0]==1:\n",
        "      TP+=1\n",
        "    elif label[idx][0]==0 and out[idx][0]>=out[idx][1]:\n",
        "      FP+=1\n",
        "    elif label[idx][0]==0 and out[idx][0]<=out[idx][1]:\n",
        "      TN+=1\n",
        "    elif label[idx][0]==1 and out[idx][0]<=out[idx][1]:\n",
        "      FN+=1\n",
        "    \n",
        "  #print(\"TP {} FP {} TN{} FN{}\".format(TP, FP, TN, FN))\n",
        "  return TP,FP,TN,FN\n",
        "\n",
        "def Accuracy_calculation(TP,FP,TN,FN):\n",
        "  precision=TP/(TP+FP)\n",
        "  recall=TP/(TP+FN)\n",
        "  fscore=(2 * precision * recall) / (precision + recall)\n",
        "\n",
        "  return precision,recall,fscore"
      ],
      "metadata": {
        "id": "oMGE0YiMfeWC"
      },
      "execution_count": null,
      "outputs": []
    },
    {
      "cell_type": "markdown",
      "metadata": {
        "id": "Y8obMpBZ3DJz"
      },
      "source": [
        "## Training process\n",
        "Reptile algorithm is performed in this cell. There are 9 workers in this scenario. First 3 are trained to solve odd, even task. Second 3 train to solve small or larger task. Last 3 trains to solve these with unseen digits 8 and 9. "
      ]
    },
    {
      "cell_type": "markdown",
      "source": [
        "### Learning from scratch"
      ],
      "metadata": {
        "id": "suxf4L7hcMKV"
      }
    },
    {
      "cell_type": "code",
      "source": [
        "wandb.watch(model_scratch,log=\"all\",log_freq=10)\n",
        "Model_Structure = deepcopy(model_scratch.state_dict())\n",
        "weights_dictionary=defaultdict(list)\n",
        "\n",
        "precision_log_scratch,recall_log_scratch,fscore_log_scratch=[],[],[]\n",
        "TP_total,FP_total,TN_total,FN_total=0,0,0,0\n",
        "# Reptile training loop\n",
        "for j in range(K_shot):\n",
        "    scratch_weights_before = deepcopy(model_scratch.state_dict())\n",
        "    Test_loss=[]\n",
        "    #net_test.state_dict=weights_dict#[widx]\n",
        "    # Do SGD on this task\n",
        "    #inds = rng.permutation(len(x_all))\n",
        "    testing_indicies=np.arange(Batch_size*j,len(testset))\n",
        "    test_subset=torch.utils.data.Subset(testset,testing_indicies)\n",
        "    testloader=torch.utils.data.DataLoader(test_subset, batch_size=Batch_size,\n",
        "                                              shuffle=False, num_workers=2)\n",
        "    for i, data in enumerate(testloader,0):\n",
        "      # get the inputs; data is a list of [inputs, labels]\n",
        "      inputs, labels = data\n",
        "      inputs=inputs.view([-1,784]) #Flattening\n",
        "      labels_maml=Meta_labels(labels,3)#Initial adaptaion to task 3\n",
        "      train_on_batch(inputs, labels_maml.float(),model_scratch)\n",
        "      outputs=model_scratch(inputs)\n",
        "      TP,FP,TN,FN = extractor(labels_maml,outputs)\n",
        "      TP_total,FP_total,TN_total,FN_total=np.add([TP_total,FP_total,TN_total,FN_total],[TP,FP,TN,FN])\n",
        "      precision,recall,fscore=Accuracy_calculation(TP_total,FP_total,TN_total,FN_total)\n",
        "      \n",
        "      weights_after = model_scratch.state_dict()\n",
        "      \n",
        "\n",
        "      if i ==Meta_step_number:\n",
        "        precision_log_scratch.append(precision)\n",
        "        recall_log_scratch.append(recall)\n",
        "        fscore_log_scratch.append(fscore)\n",
        "        wandb.log({\"precision_log_scratch\": precision,\n",
        "           \"recall_log_scratch\": recall,\n",
        "           \"fscore_log_scratch\": fscore},step=j)\n",
        "        break\n",
        "    # Interpolate between current weights and trained weights from this task\n",
        "    # I.e. (weights_before - weights_after) is the meta-gradient\n",
        "torch.onnx.export(model_scratch, inputs, \"model_scratch.onnx\")\n",
        "wandb.save(\"model_scratch.onnx\")\n",
        "\n"
      ],
      "metadata": {
        "id": "nn40tqkCsOsq",
        "colab": {
          "base_uri": "https://localhost:8080/"
        },
        "outputId": "a3e94547-27b9-49c5-b834-e3ccc6540151"
      },
      "execution_count": null,
      "outputs": [
        {
          "output_type": "stream",
          "name": "stderr",
          "text": [
            "/usr/local/lib/python3.7/dist-packages/ipykernel_launcher.py:20: RuntimeWarning: invalid value encountered in long_scalars\n"
          ]
        },
        {
          "output_type": "execute_result",
          "data": {
            "text/plain": [
              "['/content/wandb/run-20220117_085242-cbrkus1b/files/model_scratch.onnx']"
            ]
          },
          "metadata": {},
          "execution_count": 15
        }
      ]
    },
    {
      "cell_type": "code",
      "source": [
        "arr=[precision_log_scratch, recall_log_scratch, fscore_log_scratch]\n",
        "\n",
        "with open('learn_scratch.pkl','wb') as f:\n",
        "  pickle.dump(arr, f)\n",
        "\n",
        "with open('learn_scratch.pkl','rb') as f:\n",
        "  x = pickle.load(f)\n",
        "  #print(x.shape)"
      ],
      "metadata": {
        "id": "SJvBRykC1EtI"
      },
      "execution_count": null,
      "outputs": []
    },
    {
      "cell_type": "markdown",
      "source": [
        "### Vanilla Reptile algorithm"
      ],
      "metadata": {
        "id": "xXcigF6dcGJM"
      }
    },
    {
      "cell_type": "code",
      "source": [
        "innerepochs=1\n",
        "niterations=300\n",
        "# Reptile training loop\n",
        "for iteration in range(niterations):\n",
        "    reptile_weights_before = deepcopy(model_reptile.state_dict())\n",
        "    training_indicies=np.arange(Batch_size*iteration,len(train_set[0]))\n",
        "    Training_subset=torch.utils.data.Subset(train_set[widx],training_indicies)\n",
        "    trainloader1=torch.utils.data.DataLoader(train_set[widx],\n",
        "                                            batch_size=Batch_size,shuffle=True, num_workers=2)\n",
        "    for _ in range(innerepochs):\n",
        "      for i, data in enumerate(testloader,0):\n",
        "        # get the inputs; data is a list of [inputs, labels]\n",
        "        inputs, labels = data\n",
        "        inputs=inputs.view([-1,784]) #Flattening\n",
        "        labels_maml=Meta_labels(labels,1)#Initial training for task 1\n",
        "        train_on_batch(inputs, labels_maml.float(),model_scratch)\n",
        "        labels_maml=Meta_labels(labels,2)#Initial training for task 2\n",
        "        train_on_batch(inputs, labels_maml.float(),model_scratch)\n",
        "        outputs=model_reptile(inputs)\n",
        "        if i ==Meta_step_number:\n",
        "\n",
        "          reptile_weights_after = model_reptile.state_dict()\n",
        "\n",
        "          break\n",
        "    reptile_weights_after = model_reptile.state_dict()\n",
        "    outerstepsize = outerstepsize0 * (1 - iteration / niterations) # linear schedule\n",
        "    model_reptile.load_state_dict({name : \n",
        "        reptile_weights_before[name] + (reptile_weights_after[name] - reptile_weights_before[name]) * Beta \n",
        "        for name in reptile_weights_before})\n",
        "    # Interpolate between current weights and trained weights from this task\n",
        "    # I.e. (weights_before - weights_after) is the meta-gradient\n",
        "    #weights_after = model.state_dict()\n",
        "    #outerstepsize = outerstepsize0 * (1 - iteration / niterations) # linear schedule\n",
        "\n",
        "     "
      ],
      "metadata": {
        "id": "I8rfbNp48I9B"
      },
      "execution_count": null,
      "outputs": []
    },
    {
      "cell_type": "markdown",
      "source": [
        "Retile algorithm adaptation test"
      ],
      "metadata": {
        "id": "IOwTRzoTVjHY"
      }
    },
    {
      "cell_type": "code",
      "source": [
        "precision_log_reptile,recall_log_reptile,fscore_log_reptile=[],[],[]\n",
        "wandb.watch(model_reptile,log=\"all\",log_freq=10)\n",
        "for j in range(K_shot):\n",
        "    TP_total,FP_total,TN_total,FN_total=0,0,0,0\n",
        "    scratch_weights_before = deepcopy(model_reptile.state_dict())\n",
        "    #net_test.state_dict=weights_dict#[widx]\n",
        "    # Do SGD on this task\n",
        "    testing_indicies=np.arange(Batch_size*j,len(testset))\n",
        "    test_subset=torch.utils.data.Subset(testset,testing_indicies)\n",
        "    testloader=torch.utils.data.DataLoader(test_subset, batch_size=Batch_size,\n",
        "                                              shuffle=False, num_workers=2)\n",
        "    for i, data in enumerate(testloader,0):\n",
        "      # get the inputs; data is a list of [inputs, labels]\n",
        "      inputs, labels = data\n",
        "      inputs=inputs.view([-1,784]) #Flattening\n",
        "      labels_maml=Meta_labels(labels,3)#Initial adaptaion to task 3\n",
        "      train_on_batch(inputs, labels_maml.float(),model_reptile)\n",
        "      outputs=model_reptile(inputs)\n",
        "      TP,FP,TN,FN = extractor(labels_maml,outputs)\n",
        "      TP_total,FP_total,TN_total,FN_total=np.add([TP_total,FP_total,TN_total,FN_total],[TP,FP,TN,FN])\n",
        "      \n",
        "      reptile_weights_after = model_reptile.state_dict()\n",
        "      if i ==Meta_step_number:        \n",
        "        precision,recall,fscore=Accuracy_calculation(TP_total,FP_total,TN_total,FN_total)\n",
        "        precision_log_reptile.append(precision)\n",
        "        recall_log_reptile.append(recall)\n",
        "        fscore_log_reptile.append(fscore)\n",
        "        wandb.log({\"precision_log_reptile\": precision,\n",
        "           \"recall_log_reptile\": recall,\n",
        "           \"fscore_log_reptile\": fscore})\n",
        "        break\n",
        "\n",
        "\n",
        "torch.onnx.export(model_reptile, inputs, \"model_reptile.onnx\")\n",
        "wandb.save(\"model_reptile.onnx\")"
      ],
      "metadata": {
        "id": "jV8HJjTcF9m8",
        "colab": {
          "base_uri": "https://localhost:8080/"
        },
        "outputId": "685d3dd4-b62a-4c36-b8a2-dc272b6b5dc6"
      },
      "execution_count": null,
      "outputs": [
        {
          "output_type": "stream",
          "name": "stderr",
          "text": [
            "/usr/local/lib/python3.7/dist-packages/ipykernel_launcher.py:20: RuntimeWarning: invalid value encountered in long_scalars\n"
          ]
        },
        {
          "output_type": "execute_result",
          "data": {
            "text/plain": [
              "['/content/wandb/run-20220117_085242-cbrkus1b/files/model_reptile.onnx']"
            ]
          },
          "metadata": {},
          "execution_count": 18
        }
      ]
    },
    {
      "cell_type": "code",
      "source": [
        "'''for i in range(len(Temp_model)):\n",
        "  print(i)'''"
      ],
      "metadata": {
        "id": "Def7nokROQys",
        "colab": {
          "base_uri": "https://localhost:8080/"
        },
        "outputId": "e61420a1-96a2-4c05-aa7f-0e0f988fea2a"
      },
      "execution_count": null,
      "outputs": [
        {
          "output_type": "execute_result",
          "data": {
            "application/vnd.google.colaboratory.intrinsic+json": {
              "type": "string"
            },
            "text/plain": [
              "'for i in range(len(Temp_model)):\\n  print(i)'"
            ]
          },
          "metadata": {},
          "execution_count": 19
        }
      ]
    },
    {
      "cell_type": "code",
      "source": [
        "#precision_rep,recall_rep,fscore_rep,Loss_rep=Reptile_adaptation()"
      ],
      "metadata": {
        "id": "b04lWEnweWzM"
      },
      "execution_count": null,
      "outputs": []
    },
    {
      "cell_type": "markdown",
      "source": [
        "### Federated Meta learning"
      ],
      "metadata": {
        "id": "8FeIN0jFcCmZ"
      }
    },
    {
      "cell_type": "code",
      "source": [
        "innerepochs=1\n",
        "niterations=300\n",
        "model_dict=defaultdict(list)\n",
        "# Initial model registering #\n",
        "for widx in range(num_worker):\n",
        "  model_dict['models'].append(deepcopy(model_federated_meta.state_dict()))\n",
        "\n",
        "# Federated Meta learning training loop #\n",
        "for iteration in range(niterations):\n",
        "\n",
        "  for widx in range(num_worker):\n",
        "    ### Download the model ###\n",
        "    model_federated_meta.load_state_dict({name : \n",
        "        model_dict['models'][widx][name] for name in model_dict['models'][widx]})\n",
        "    \n",
        "    #model_dict['models'][widx] = deepcopy(model_federated_meta.state_dict())\n",
        "    \n",
        "    training_indicies=np.arange(Batch_size*iteration,len(train_set[0]))\n",
        "    Training_subset=torch.utils.data.Subset(train_set[widx],training_indicies)\n",
        "    trainloader1=torch.utils.data.DataLoader(train_set[widx],\n",
        "                                            batch_size=Batch_size,shuffle=True, num_workers=2)\n",
        "    for _ in range(innerepochs):\n",
        "      for i, data in enumerate(testloader,0):\n",
        "        # get the inputs; data is a list of [inputs, labels]\n",
        "        inputs, labels = data\n",
        "        inputs=inputs.view([-1,784]) #Flattening\n",
        "        if widx <= num_worker:\n",
        "          labels_maml=Meta_labels(labels,1)#Initial training for task 1\n",
        "        elif widx > num_worker:\n",
        "          labels_maml=Meta_labels(labels,2)#Initial training for task 2\n",
        "        train_on_batch(inputs, labels_maml.float(),model_federated_meta)\n",
        "        outputs=model_federated_meta(inputs)\n",
        "        if i ==Meta_step_number:\n",
        "\n",
        "          federated_weights_after = model_federated_meta.state_dict()\n",
        "\n",
        "          break\n",
        "    federated_weights_after = model_federated_meta.state_dict()\n",
        "    outerstepsize = outerstepsize0 * (1 - iteration / niterations) # linear schedule\n",
        "    model_federated_meta.load_state_dict({name : \n",
        "        model_dict['models'][widx][name] + (federated_weights_after[name] - model_dict['models'][widx][name]) * Beta \n",
        "        for name in model_dict['models'][widx]})\n",
        "    model_dict['models'][widx]=deepcopy(model_federated_meta.state_dict())\n",
        "    \n",
        "    ## I need to reset model to broadcasted one\n",
        "    \n",
        "  ### Model aggregation ###\n",
        "  Global_model=FedAvg(model_dict['models'],num_worker)\n",
        "  for widx in range(num_worker):\n",
        "    for wei in Global_model:\n",
        "      model_dict['models'][widx][wei]=Global_model[wei]\n",
        "    # Interpolate between current weights and trained weights from this task\n",
        "    # I.e. (weights_before - weights_after) is the meta-gradient\n",
        "    #weights_after = model.state_dict()\n",
        "    #outerstepsize = outerstepsize0 * (1 - iteration / niterations) # linear schedule"
      ],
      "metadata": {
        "id": "KEiPykhpFxUj"
      },
      "execution_count": null,
      "outputs": []
    },
    {
      "cell_type": "markdown",
      "source": [
        "## Learning new task\n",
        "Pretrained model in Federated meta learning setup tries to learn new task under this section."
      ],
      "metadata": {
        "id": "EHY4S1q7N4Vd"
      }
    },
    {
      "cell_type": "code",
      "source": [
        "model_adapt_dict=defaultdict(list)\n",
        "# Initial model registering #\n",
        "for widx in range(num_worker):\n",
        "  model_adapt_dict['models'].append(deepcopy(model_federated_meta.state_dict()))\n",
        "wandb.watch(model_federated_meta,log=\"all\",log_freq=10)\n",
        "precision_log_federated_meta,recall_log_federated_meta,fscore_log_federated_meta=[],[],[]\n",
        "#TP_total,FP_total,TN_total,FN_total=0,0,0,0\n",
        "for j in range(K_shot):\n",
        "    #federated_weights_before = deepcopy(model_federated_meta.state_dict())\n",
        "    \n",
        "    #net_test.state_dict=weights_dict#[widx]\n",
        "    # Do SGD on this task\n",
        "    precision_log_cluster,recall_log_cluster,fscore_log_cluster=[],[],[]\n",
        "    \n",
        "    for widx in range(num_worker):\n",
        "      model_federated_meta.load_state_dict({name : \n",
        "        model_adapt_dict['models'][widx][name] for name in model_adapt_dict['models'][widx]})\n",
        "      \n",
        "      testing_indicies=np.arange(Batch_size*j*widx,len(testset))\n",
        "      test_subset=torch.utils.data.Subset(testset,testing_indicies)\n",
        "      testloader=torch.utils.data.DataLoader(test_subset, batch_size=Batch_size,\n",
        "                                                shuffle=False, num_workers=2)\n",
        "      TP_total,FP_total,TN_total,FN_total=0,0,0,0\n",
        "      for i, data in enumerate(testloader,0):\n",
        "        # get the inputs; data is a list of [inputs, labels]\n",
        "        inputs, labels = data\n",
        "        inputs=inputs.view([-1,784]) #Flattening\n",
        "        labels_maml=Meta_labels(labels,3)#Adaptaion to task 3\n",
        "        train_on_batch(inputs, labels_maml.float(),model_federated_meta)\n",
        "        outputs=model_federated_meta(inputs)\n",
        "        TP,FP,TN,FN = extractor(labels_maml,outputs)\n",
        "        TP_total,FP_total,TN_total,FN_total=np.add([TP_total,FP_total,TN_total,FN_total],[TP,FP,TN,FN])\n",
        "        \n",
        "        \n",
        "        if i ==Meta_step_number:\n",
        "          \n",
        "          precision,recall,fscore=Accuracy_calculation(TP_total,FP_total,TN_total,FN_total)\n",
        "          precision_log_cluster.append(precision)\n",
        "          recall_log_cluster.append(recall)\n",
        "          fscore_log_cluster.append(fscore)\n",
        "          \n",
        "          model_adapt_dict['models'][widx]=deepcopy(model_federated_meta.state_dict())\n",
        "          break\n",
        "    wandb.log({\"precision_log_federated_meta\": precision,\n",
        "           \"recall_log_federated_meta\": recall,\n",
        "           \"fscore_log_federated_meta\": fscore})\n",
        "    precision_log_federated_meta.append(np.mean(precision_log_cluster))\n",
        "    recall_log_federated_meta.append(np.mean(recall_log_cluster))\n",
        "    fscore_log_federated_meta.append(np.mean(fscore_log_cluster))\n",
        "    \n",
        "    ### FedAvg\n",
        "    Global_model=FedAvg(model_adapt_dict['models'],num_worker)\n",
        "    for widx in range(num_worker):\n",
        "      for wei in Global_model:\n",
        "        model_adapt_dict['models'][widx][wei]=Global_model[wei]\n",
        "        \n",
        "torch.onnx.export(model_federated_meta, inputs, \"model_federated_meta.onnx\")\n",
        "wandb.save(\"model_federated_meta.onnx\")"
      ],
      "metadata": {
        "id": "ofeoKeY0-HZr",
        "colab": {
          "base_uri": "https://localhost:8080/"
        },
        "outputId": "8460d890-dd5d-48c4-b8eb-fc915b89fec3"
      },
      "execution_count": null,
      "outputs": [
        {
          "output_type": "execute_result",
          "data": {
            "text/plain": [
              "['/content/wandb/run-20220117_085242-cbrkus1b/files/model_federated_meta.onnx']"
            ]
          },
          "metadata": {},
          "execution_count": 22
        }
      ]
    },
    {
      "cell_type": "markdown",
      "source": [
        "## Plotting results"
      ],
      "metadata": {
        "id": "WtyYtFeGOKKK"
      }
    },
    {
      "cell_type": "code",
      "metadata": {
        "id": "wPZfFco0SUiu",
        "colab": {
          "base_uri": "https://localhost:8080/"
        },
        "outputId": "8be39f05-0190-47cd-faa6-bbc068857aa6"
      },
      "source": [
        "'''plt.plot(Loss_for_graph['Loss'])\n",
        "plt.xlabel(\"Inner Steps\")\n",
        "plt.ylabel(\"Loss\")'''"
      ],
      "execution_count": null,
      "outputs": [
        {
          "output_type": "execute_result",
          "data": {
            "application/vnd.google.colaboratory.intrinsic+json": {
              "type": "string"
            },
            "text/plain": [
              "'plt.plot(Loss_for_graph[\\'Loss\\'])\\nplt.xlabel(\"Inner Steps\")\\nplt.ylabel(\"Loss\")'"
            ]
          },
          "metadata": {},
          "execution_count": 23
        }
      ]
    },
    {
      "cell_type": "code",
      "source": [
        "plt.plot(precision_log_scratch)\n",
        "plt.xlabel(\"Outer Steps\")\n",
        "plt.ylabel(\"Precision\")"
      ],
      "metadata": {
        "id": "2xpZw1bogDFC",
        "colab": {
          "base_uri": "https://localhost:8080/",
          "height": 297
        },
        "outputId": "3aff1716-1766-4734-fd76-2e0a8b3c5336"
      },
      "execution_count": null,
      "outputs": [
        {
          "output_type": "execute_result",
          "data": {
            "text/plain": [
              "Text(0, 0.5, 'Precision')"
            ]
          },
          "metadata": {},
          "execution_count": 24
        },
        {
          "output_type": "display_data",
          "data": {
            "image/png": "[encoded data removed]",
            "text/plain": [
              "<Figure size 432x288 with 1 Axes>"
            ]
          },
          "metadata": {
            "needs_background": "light"
          }
        }
      ]
    },
    {
      "cell_type": "code",
      "source": [
        "plt.plot(recall_log_scratch)\n",
        "plt.xlabel(\"Outer Steps\")\n",
        "plt.ylabel(\"Recall\")"
      ],
      "metadata": {
        "id": "pILuMlIIgDCc",
        "colab": {
          "base_uri": "https://localhost:8080/",
          "height": 297
        },
        "outputId": "2ff2865f-0546-4459-bfc5-0dfbf8f0ebc1"
      },
      "execution_count": null,
      "outputs": [
        {
          "output_type": "execute_result",
          "data": {
            "text/plain": [
              "Text(0, 0.5, 'Recall')"
            ]
          },
          "metadata": {},
          "execution_count": 25
        },
        {
          "output_type": "display_data",
          "data": {
            "image/png": "[encoded data removed]",
            "text/plain": [
              "<Figure size 432x288 with 1 Axes>"
            ]
          },
          "metadata": {
            "needs_background": "light"
          }
        }
      ]
    },
    {
      "cell_type": "code",
      "source": [
        "plt.plot(fscore_log_scratch)\n",
        "plt.xlabel(\"Outer Steps\")\n",
        "plt.ylabel(\"F-measure\")"
      ],
      "metadata": {
        "id": "MzPpIy6BgDAC",
        "colab": {
          "base_uri": "https://localhost:8080/"
        },
        "outputId": "97ca0277-bcfe-4376-9d0b-b8d8948cf346"
      },
      "execution_count": null,
      "outputs": [
        {
          "output_type": "execute_result",
          "data": {
            "text/plain": [
              "Text(0, 0.5, 'F-measure')"
            ]
          },
          "metadata": {},
          "execution_count": 26
        },
        {
          "output_type": "display_data",
          "data": {
            "image/png": "[encoded data removed]",
            "text/plain": [
              "<Figure size 432x288 with 1 Axes>"
            ]
          },
          "metadata": {
            "needs_background": "light"
          }
        }
      ]
    },
    {
      "cell_type": "code",
      "source": [
        "\n",
        "\n",
        "# Optional\n",
        "wandb.watch(model_federated_meta)"
      ],
      "metadata": {
        "colab": {
          "base_uri": "https://localhost:8080/"
        },
        "id": "1G06hYSUFsZ1",
        "outputId": "b52f1adb-d4c1-4b58-e2dc-6cfa726a7f87"
      },
      "execution_count": null,
      "outputs": [
        {
          "output_type": "execute_result",
          "data": {
            "text/plain": [
              "[]"
            ]
          },
          "metadata": {},
          "execution_count": 27
        }
      ]
    },
    {
      "cell_type": "code",
      "source": [
        "#precision_t,recall_t,fscore_t,Test_loss\n",
        "#plt.plot(Test_loss,'tab:blue', linewidth=3)\n",
        "#plt.plot(Loss_avg,'tab:red', linewidth=3)\n",
        "#plt.plot(Loss_avg,'tab:orange', linewidth=3)\n",
        "#plt.legend((\"Without Reptile\",\"with Reptile\")\n",
        "#plt.xlabel(\"Inner Steps\")\n",
        "#plt.ylabel(\"Test loss\")\n",
        "#plt.legend([\"Learning from scratch\",\"Reptile algorithm\",\"Federated Meta Learning\"])\n",
        "#plt.figure()\n",
        "\n",
        "plt.plot(precision_log_scratch,'tab:blue', linewidth=3)\n",
        "plt.plot(precision_log_reptile,'tab:red', linewidth=3)\n",
        "plt.plot(precision_log_federated_meta,'tab:orange', linewidth=3)\n",
        "plt.xlabel(\"Iteration\")\n",
        "plt.ylabel(\"Precision\")\n",
        "plt.legend([\"Learning from scratch\",\"Reptile algorithm\",\"Federated Meta Learning\"])\n",
        "plt.figure()\n",
        "plt.plot(recall_log_scratch,'tab:blue', linewidth=3)\n",
        "plt.plot(recall_log_reptile,'tab:red', linewidth=3)\n",
        "plt.plot(recall_log_federated_meta,'tab:orange', linewidth=3)\n",
        "plt.xlabel(\"Iteration\")\n",
        "plt.ylabel(\"Recall\")\n",
        "plt.legend([\"Learning from scratch\",\"Reptile algorithm\",\"Federated Meta Learning\"])\n",
        "plt.figure()\n",
        "plt.plot(fscore_log_scratch,'tab:blue', linewidth=3)\n",
        "plt.plot(fscore_log_reptile,'tab:red', linewidth=3)\n",
        "plt.plot(fscore_log_federated_meta,'tab:orange', linewidth=3)\n",
        "plt.xlabel(\"Iteration\")\n",
        "plt.ylabel(\"F-score\")\n",
        "plt.legend([\"Learning from scratch\",\"Reptile algorithm\",\"Federated Meta Learning\"])"
      ],
      "metadata": {
        "id": "oIdYj2-gTU0L",
        "colab": {
          "base_uri": "https://localhost:8080/",
          "height": 821
        },
        "outputId": "46aaf2e7-18c9-4661-c2f2-b0eb09a481f3"
      },
      "execution_count": null,
      "outputs": [
        {
          "output_type": "execute_result",
          "data": {
            "text/plain": [
              "<matplotlib.legend.Legend at 0x7fa34b369f90>"
            ]
          },
          "metadata": {},
          "execution_count": 28
        },
        {
          "output_type": "display_data",
          "data": {
            "image/png": "[encoded data removed]",
            "text/plain": [
              "<Figure size 432x288 with 1 Axes>"
            ]
          },
          "metadata": {
            "needs_background": "light"
          }
        },
        {
          "output_type": "display_data",
          "data": {
            "image/png": "[encoded data removed]",
            "text/plain": [
              "<Figure size 432x288 with 1 Axes>"
            ]
          },
          "metadata": {
            "needs_background": "light"
          }
        },
        {
          "output_type": "display_data",
          "data": {
            "image/png": "[encoded data removed]",
            "text/plain": [
              "<Figure size 432x288 with 1 Axes>"
            ]
          },
          "metadata": {
            "needs_background": "light"
          }
        }
      ]
    },
    {
      "cell_type": "code",
      "source": [
        ""
      ],
      "metadata": {
        "id": "N8hY4FaWTUu_"
      },
      "execution_count": null,
      "outputs": []
    },
    {
      "cell_type": "code",
      "source": [
        ""
      ],
      "metadata": {
        "id": "Iywg-jClTUrd"
      },
      "execution_count": null,
      "outputs": []
    },
    {
      "cell_type": "code",
      "metadata": {
        "id": "Be1y1tExKneW",
        "colab": {
          "base_uri": "https://localhost:8080/",
          "height": 35
        },
        "outputId": "7e77d618-36b2-4f54-d210-42bd3e75602a"
      },
      "source": [
        "'''a=weights_dict['weights'][widx]\n",
        "b=Temp_model\n",
        "B=[]\n",
        "for wei in weights_dict['weights'][widx]:\n",
        "  B.append(weights_dict['weights'][widx][wei]-Temp_model[wei])\n",
        "print(B)'''"
      ],
      "execution_count": null,
      "outputs": [
        {
          "output_type": "execute_result",
          "data": {
            "application/vnd.google.colaboratory.intrinsic+json": {
              "type": "string"
            },
            "text/plain": [
              "\"a=weights_dict['weights'][widx]\\nb=Temp_model\\nB=[]\\nfor wei in weights_dict['weights'][widx]:\\n  B.append(weights_dict['weights'][widx][wei]-Temp_model[wei])\\nprint(B)\""
            ]
          },
          "metadata": {},
          "execution_count": 29
        }
      ]
    },
    {
      "cell_type": "markdown",
      "metadata": {
        "id": "fPeTSE-DIg36"
      },
      "source": [
        "### Model saving examples\n",
        "\n",
        "I try to find better ways to register models for each worker, and call them later."
      ]
    },
    {
      "cell_type": "markdown",
      "source": [
        "OpenAI example code for training"
      ],
      "metadata": {
        "id": "hAJp6y_ba54Q"
      }
    },
    {
      "cell_type": "code",
      "source": [
        "'''# Reptile training loop\n",
        "for iteration in range(niterations):\n",
        "    weights_before = deepcopy(model.state_dict())\n",
        "    # Generate task\n",
        "    f = gen_task()\n",
        "    y_all = f(x_all)\n",
        "    # Do SGD on this task\n",
        "    inds = rng.permutation(len(x_all))\n",
        "    for _ in range(innerepochs):\n",
        "        for start in range(0, len(x_all), ntrain):\n",
        "            mbinds = inds[start:start+ntrain]\n",
        "            train_on_batch(x_all[mbinds], y_all[mbinds])\n",
        "    # Interpolate between current weights and trained weights from this task\n",
        "    # I.e. (weights_before - weights_after) is the meta-gradient\n",
        "    weights_after = model.state_dict()\n",
        "    outerstepsize = outerstepsize0 * (1 - iteration / niterations) # linear schedule\n",
        "    model.load_state_dict({name : \n",
        "        weights_before[name] + (weights_after[name] - weights_before[name]) * outerstepsize \n",
        "        for name in weights_before})'''"
      ],
      "metadata": {
        "id": "A_zItP7ja3_z",
        "colab": {
          "base_uri": "https://localhost:8080/",
          "height": 87
        },
        "outputId": "9c5bacc7-e636-4471-f6e9-f4408a2bb01c"
      },
      "execution_count": null,
      "outputs": [
        {
          "output_type": "execute_result",
          "data": {
            "application/vnd.google.colaboratory.intrinsic+json": {
              "type": "string"
            },
            "text/plain": [
              "'# Reptile training loop\\nfor iteration in range(niterations):\\n    weights_before = deepcopy(model.state_dict())\\n    # Generate task\\n    f = gen_task()\\n    y_all = f(x_all)\\n    # Do SGD on this task\\n    inds = rng.permutation(len(x_all))\\n    for _ in range(innerepochs):\\n        for start in range(0, len(x_all), ntrain):\\n            mbinds = inds[start:start+ntrain]\\n            train_on_batch(x_all[mbinds], y_all[mbinds])\\n    # Interpolate between current weights and trained weights from this task\\n    # I.e. (weights_before - weights_after) is the meta-gradient\\n    weights_after = model.state_dict()\\n    outerstepsize = outerstepsize0 * (1 - iteration / niterations) # linear schedule\\n    model.load_state_dict({name : \\n        weights_before[name] + (weights_after[name] - weights_before[name]) * outerstepsize \\n        for name in weights_before})'"
            ]
          },
          "metadata": {},
          "execution_count": 30
        }
      ]
    },
    {
      "cell_type": "code",
      "metadata": {
        "id": "Hv6D402ctxN3",
        "colab": {
          "base_uri": "https://localhost:8080/",
          "height": 87
        },
        "outputId": "a0631ef5-919a-47d7-b24e-4849bcf2ad5d"
      },
      "source": [
        "'''##### TASK 3 for Test #####\n",
        "# *For scenario 1 aggregate in FL framework. Scenario 2 updates in reptile algorithm\n",
        "recall_meta=np.zeros([num_worker,Meta_step_number])\n",
        "Loss_meta=np.zeros([num_worker,Meta_step_number])\n",
        "precision_meta=np.zeros([num_worker,Meta_step_number])\n",
        "fscore_meta=np.zeros([num_worker,Meta_step_number])\n",
        "\n",
        "\n",
        "net_Fed_meta.state_dict=initial_weights\n",
        "precision_fed,recall_fed,fscore_fed,Loss_fed=[],[],[],[]\n",
        "TP_total,FP_total,TN_total,FN_total=0,0,0,0\n",
        "for k in range(K_shot):\n",
        "  precision_fed,recall_fed,fscore_fed,Loss_fed=[],[],[],[]\n",
        "  TP_total,FP_total,TN_total,FN_total=0,0,0,0\n",
        "  for widx in range(num_worker):\n",
        "    net_Fed_meta.state_dict=weights_dict['weights'][widx]\n",
        "    #testloader=torch.utils.data.DataLoader(test_subset[0], batch_size=20,shuffle=True, num_workers=2)\n",
        "                                              \n",
        "    for i, data in enumerate(testloader,0):\n",
        "        # get the inputs; data is a list of [inputs, labels]\n",
        "        inputs, labels = data\n",
        "        labels_maml=Meta_labels(labels,3)#Initial adaptaion to task 3\n",
        "        optimizer_Fed_meta.zero_grad(set_to_none=True)\n",
        "        outputs = net_Fed_meta(inputs)\n",
        "        loss = criterion(outputs, labels_maml.float())\n",
        "        loss.backward()\n",
        "        optimizer_Fed_meta.step()\n",
        "        ## Logging results data\n",
        "        Loss_fed.append(loss.item())\n",
        "        TP,FP,TN,FN = extractor(labels_maml,outputs)\n",
        "        TP_total,FP_total,TN_total,FN_total=np.add([TP_total,FP_total,TN_total,FN_total],[TP,FP,TN,FN]) \n",
        "        precision_f,recall_f,fscore_f=Accuracy_calculation(TP_total,FP_total,TN_total,FN_total)\n",
        "        recall_meta[widx,i-1]=recall_f\n",
        "        Loss_meta[widx,i-1]=loss.item()\n",
        "        precision_meta[widx,i-1]=precision_f\n",
        "        fscore_meta[widx,i-1]=fscore_f\n",
        "        precision_fed.append(precision_f)\n",
        "        recall_fed.append(recall_f)\n",
        "        fscore_fed.append(fscore_f)\n",
        "        if i %100==Meta_step_number:\n",
        "          if widx==num_worker-1:\n",
        "              for idx in range(widx):\n",
        "                weights_dict['weights'][idx]=FedAvg(weights_dict['weights'],num_worker)\n",
        "          break\n",
        "\n",
        "  for wei in weights_dict['weights'][widx]:\n",
        "      initial_weights[wei]= initial_weights[wei] +  Beta*(weights_dict['weights'][widx][wei]-initial_weights[wei])\n",
        "recall_avg=np.zeros(Meta_step_number)\n",
        "Loss_avg=np.zeros(Meta_step_number)\n",
        "precision_avg=np.zeros(Meta_step_number)\n",
        "fscore_avg=np.zeros(Meta_step_number)\n",
        "#Averaging performance values of task 3 accross the workers \n",
        "for j in range(Meta_step_number): \n",
        "  recall_avg[j]=np.mean(recall_fed[j::Meta_step_number])\n",
        "  Loss_avg[j]=np.mean(Loss_fed[j::Meta_step_number])\n",
        "  precision_avg[j]=np.mean(precision_fed[j::Meta_step_number])\n",
        "  fscore_avg[j]=np.mean(fscore_fed[j::Meta_step_number])'''"
      ],
      "execution_count": null,
      "outputs": [
        {
          "output_type": "execute_result",
          "data": {
            "application/vnd.google.colaboratory.intrinsic+json": {
              "type": "string"
            },
            "text/plain": [
              "\"##### TASK 3 for Test #####\\n# *For scenario 1 aggregate in FL framework. Scenario 2 updates in reptile algorithm\\nrecall_meta=np.zeros([num_worker,Meta_step_number])\\nLoss_meta=np.zeros([num_worker,Meta_step_number])\\nprecision_meta=np.zeros([num_worker,Meta_step_number])\\nfscore_meta=np.zeros([num_worker,Meta_step_number])\\n\\n\\nnet_Fed_meta.state_dict=initial_weights\\nprecision_fed,recall_fed,fscore_fed,Loss_fed=[],[],[],[]\\nTP_total,FP_total,TN_total,FN_total=0,0,0,0\\nfor k in range(K_shot):\\n  precision_fed,recall_fed,fscore_fed,Loss_fed=[],[],[],[]\\n  TP_total,FP_total,TN_total,FN_total=0,0,0,0\\n  for widx in range(num_worker):\\n    net_Fed_meta.state_dict=weights_dict['weights'][widx]\\n    #testloader=torch.utils.data.DataLoader(test_subset[0], batch_size=20,shuffle=True, num_workers=2)\\n                                              \\n    for i, data in enumerate(testloader,0):\\n        # get the inputs; data is a list of [inputs, labels]\\n        inputs, labels = data\\n        labels_maml=Meta_labels(labels,3)#Initial adaptaion to task 3\\n        optimizer_Fed_meta.zero_grad(set_to_none=True)\\n        outputs = net_Fed_meta(inputs)\\n        loss = criterion(outputs, labels_maml.float())\\n        loss.backward()\\n        optimizer_Fed_meta.step()\\n        ## Logging results data\\n        Loss_fed.append(loss.item())\\n        TP,FP,TN,FN = extractor(labels_maml,outputs)\\n        TP_total,FP_total,TN_total,FN_total=np.add([TP_total,FP_total,TN_total,FN_total],[TP,FP,TN,FN]) \\n        precision_f,recall_f,fscore_f=Accuracy_calculation(TP_total,FP_total,TN_total,FN_total)\\n        recall_meta[widx,i-1]=recall_f\\n        Loss_meta[widx,i-1]=loss.item()\\n        precision_meta[widx,i-1]=precision_f\\n        fscore_meta[widx,i-1]=fscore_f\\n        precision_fed.append(precision_f)\\n        recall_fed.append(recall_f)\\n        fscore_fed.append(fscore_f)\\n        if i %100==Meta_step_number:\\n          if widx==num_worker-1:\\n              for idx in range(widx):\\n                weights_dict['weights'][idx]=FedAvg(weights_dict['weights'],num_worker)\\n          break\\n\\n  for wei in weights_dict['weights'][widx]:\\n      initial_weights[wei]= initial_weights[wei] +  Beta*(weights_dict['weights'][widx][wei]-initial_weights[wei])\\nrecall_avg=np.zeros(Meta_step_number)\\nLoss_avg=np.zeros(Meta_step_number)\\nprecision_avg=np.zeros(Meta_step_number)\\nfscore_avg=np.zeros(Meta_step_number)\\n#Averaging performance values of task 3 accross the workers \\nfor j in range(Meta_step_number): \\n  recall_avg[j]=np.mean(recall_fed[j::Meta_step_number])\\n  Loss_avg[j]=np.mean(Loss_fed[j::Meta_step_number])\\n  precision_avg[j]=np.mean(precision_fed[j::Meta_step_number])\\n  fscore_avg[j]=np.mean(fscore_fed[j::Meta_step_number])\""
            ]
          },
          "metadata": {},
          "execution_count": 31
        }
      ]
    }
  ]
}